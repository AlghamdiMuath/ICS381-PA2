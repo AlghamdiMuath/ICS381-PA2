{
 "cells": [
  {
   "cell_type": "code",
   "execution_count": null,
   "id": "5e805287",
   "metadata": {},
   "outputs": [],
   "source": [
    "class Node:\n",
    "    def __init__(self,state, parent_node=None, action_from_parent=None, path_cost=0):\n",
    "        self.state = state\n",
    "        if (parent_node):\n",
    "            self.depth = parent_node.depth+1\n",
    "        else:\n",
    "            self.depth = 0\n",
    "    def __lt__(self,other):\n",
    "        return self.state<other.state"
   ]
  },
  {
   "cell_type": "code",
   "execution_count": null,
   "id": "32b11434",
   "metadata": {},
   "outputs": [],
   "source": [
    "import heapq\n",
    "class PriorityQueue:\n",
    "    def __init__(self, items=(), priority_function=(lambda x: x)):\n",
    "        self.priority_function = priority_function\n",
    "        self.pqueue = []\n",
    "        # add the items to the PQ\n",
    "        for item in items:\n",
    "            self.add(item)\n",
    "\n",
    " \"\"\"\n",
    " Add item to PQ with priority-value given by call to priority_function\n",
    " \"\"\"\n",
    "    def add(self, item):\n",
    "        pair = (self.priority_function(item), item)\n",
    "        heapq.heappush(self.pqueue, pair)\n",
    " \"\"\"\n",
    " pop and return item from PQ with min priority-value\n",
    " \"\"\"\n",
    "    def pop(self):\n",
    "    return heapq.heappop(self.pqueue)[1]\n",
    " \"\"\"\n",
    " gets number of items in PQ\n",
    " \"\"\"\n",
    "    def __len__(self):\n",
    "        return len(self. pqueue)"
   ]
  },
  {
   "cell_type": "code",
   "execution_count": null,
   "id": "8017fe74",
   "metadata": {},
   "outputs": [],
   "source": [
    "def expand(problem,node):\n",
    "\n",
    "def get_path_actions(node):\n",
    "    "
   ]
  },
  {
   "cell_type": "code",
   "execution_count": 3,
   "id": "b9eeb564",
   "metadata": {},
   "outputs": [
    {
     "name": "stdout",
     "output_type": "stream",
     "text": [
      "3\n"
     ]
    }
   ],
   "source": [
    "if None:\n",
    "    print(1)\n",
    "else:\n",
    "    print(3)"
   ]
  },
  {
   "cell_type": "code",
   "execution_count": null,
   "id": "ee892066",
   "metadata": {},
   "outputs": [],
   "source": []
  }
 ],
 "metadata": {
  "kernelspec": {
   "display_name": "Python 3",
   "language": "python",
   "name": "python3"
  },
  "language_info": {
   "codemirror_mode": {
    "name": "ipython",
    "version": 3
   },
   "file_extension": ".py",
   "mimetype": "text/x-python",
   "name": "python",
   "nbconvert_exporter": "python",
   "pygments_lexer": "ipython3",
   "version": "3.8.8"
  },
  "toc": {
   "base_numbering": 1,
   "nav_menu": {},
   "number_sections": true,
   "sideBar": true,
   "skip_h1_title": false,
   "title_cell": "Table of Contents",
   "title_sidebar": "Contents",
   "toc_cell": false,
   "toc_position": {},
   "toc_section_display": true,
   "toc_window_display": false
  }
 },
 "nbformat": 4,
 "nbformat_minor": 5
}
